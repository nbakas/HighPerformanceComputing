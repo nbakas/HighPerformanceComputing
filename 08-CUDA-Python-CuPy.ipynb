{
  "nbformat": 4,
  "nbformat_minor": 0,
  "metadata": {
    "accelerator": "GPU",
    "colab": {
      "provenance": [],
      "toc_visible": true,
      "gpuType": "T4"
    },
    "kernelspec": {
      "display_name": "Python 3",
      "name": "python3"
    }
  },
  "cells": [
    {
      "cell_type": "markdown",
      "source": [
        "\n",
        "# GPU - Accelerated Linear Algebra in Python\n",
        "\n",
        "Wednesday, 29 May 2024\n",
        "\n",
        "https://eurocc.cyi.ac.cy/intermediate-level-programming-for-hpc-programming-using-python-training-event-2024/\n",
        "\n",
        "*   CUDA (Compute Unified Device Architecture) is a parallel computing platform and\n",
        "application programming interface (API) model created by NVIDIA that allows developers to use NVIDIA GPUs for general-purpose processing.\n",
        "*   CuPy allows Python users to achieve GPU acceleration with minimal code changes, leveraging familiar NumPy-like syntax."
      ],
      "metadata": {
        "id": "xib8Ml7JQO_d"
      }
    },
    {
      "cell_type": "code",
      "source": [
        "from psutil import virtual_memory\n",
        "ram_gb = virtual_memory().total / 1e9\n",
        "print('Your runtime has {:.1f} gigabytes of available RAM\\n'.format(ram_gb))\n",
        "\n",
        "gpu_info = !nvidia-smi\n",
        "gpu_info = '\\n'.join(gpu_info)\n",
        "print(gpu_info)"
      ],
      "metadata": {
        "id": "GJ1Tz3A1q7fd",
        "colab": {
          "base_uri": "https://localhost:8080/"
        },
        "outputId": "c770dad7-0e60-43fa-c051-ca47b9981f87"
      },
      "execution_count": null,
      "outputs": [
        {
          "output_type": "stream",
          "name": "stdout",
          "text": [
            "Your runtime has 13.6 gigabytes of available RAM\n",
            "\n",
            "Wed May 29 10:26:27 2024       \n",
            "+---------------------------------------------------------------------------------------+\n",
            "| NVIDIA-SMI 535.104.05             Driver Version: 535.104.05   CUDA Version: 12.2     |\n",
            "|-----------------------------------------+----------------------+----------------------+\n",
            "| GPU  Name                 Persistence-M | Bus-Id        Disp.A | Volatile Uncorr. ECC |\n",
            "| Fan  Temp   Perf          Pwr:Usage/Cap |         Memory-Usage | GPU-Util  Compute M. |\n",
            "|                                         |                      |               MIG M. |\n",
            "|=========================================+======================+======================|\n",
            "|   0  Tesla T4                       Off | 00000000:00:04.0 Off |                    0 |\n",
            "| N/A   70C    P0              31W /  70W |    103MiB / 15360MiB |      0%      Default |\n",
            "|                                         |                      |                  N/A |\n",
            "+-----------------------------------------+----------------------+----------------------+\n",
            "                                                                                         \n",
            "+---------------------------------------------------------------------------------------+\n",
            "| Processes:                                                                            |\n",
            "|  GPU   GI   CI        PID   Type   Process name                            GPU Memory |\n",
            "|        ID   ID                                                             Usage      |\n",
            "|=======================================================================================|\n",
            "+---------------------------------------------------------------------------------------+\n"
          ]
        }
      ]
    },
    {
      "cell_type": "markdown",
      "source": [
        "### NVIDIA GPU Information\n",
        "\n",
        "- **GPU Details:** The system uses an NVIDIA Tesla T4 GPU, which is not running in persistence mode and is currently utilizing a minimal 9W of its 70W power capacity.\n",
        "- **Memory and Utilization:** The GPU has 15.36GB of memory available, with 0% utilization at the moment, indicating no active processes using the GPU.\n",
        "- **System Information:** The system is operating with NVIDIA driver version 535.104.05 and CUDA version 12.2, which are essential for running GPU-accelerated computations."
      ],
      "metadata": {
        "id": "OVMxDwXvPaiY"
      }
    },
    {
      "cell_type": "markdown",
      "source": [
        "# Import Libraries"
      ],
      "metadata": {
        "id": "gqu57tccw2Cf"
      }
    },
    {
      "cell_type": "code",
      "source": [
        "import numpy as np\n",
        "import time"
      ],
      "metadata": {
        "id": "RPbta1eqRKvM"
      },
      "execution_count": null,
      "outputs": []
    },
    {
      "cell_type": "code",
      "source": [
        "import os\n",
        "# Get the number of available processors\n",
        "num_processors = os.cpu_count()\n",
        "# Print the number of processors\n",
        "print(f\"Number of available processors: {num_processors}\")"
      ],
      "metadata": {
        "colab": {
          "base_uri": "https://localhost:8080/"
        },
        "id": "I2bubqExRePQ",
        "outputId": "f25e0f17-aa03-4c14-e596-441431ac1ca7"
      },
      "execution_count": null,
      "outputs": [
        {
          "output_type": "stream",
          "name": "stdout",
          "text": [
            "Number of available processors: 2\n"
          ]
        }
      ]
    },
    {
      "cell_type": "code",
      "source": [
        "import cupy as cp\n",
        "\n",
        "# Ensure the CUDA device is properly synchronized before fetching memory info\n",
        "cp.cuda.runtime.deviceSynchronize()\n",
        "device = cp.cuda.Device(0)  # Select the first GPU device\n",
        "\n",
        "# Retrieve the total and free memory available on the GPU\n",
        "free_memory, total_memory = cp.cuda.runtime.memGetInfo()\n",
        "\n",
        "# Convert memory information from bytes to gigabytes for clarity\n",
        "total_memory_gb = total_memory / (1024 ** 3)\n",
        "free_memory_gb = free_memory / (1024 ** 3)\n",
        "\n",
        "# Print both the total and free GPU memory to verify the values\n",
        "print(f\"Total GPU Memory: {total_memory_gb:.2f} GB\")\n",
        "print(f\"Free GPU Memory: {free_memory_gb:.2f} GB\")"
      ],
      "metadata": {
        "colab": {
          "base_uri": "https://localhost:8080/"
        },
        "id": "JwFkRuuBfEZ9",
        "outputId": "5ab3f22f-771d-4f36-a166-4d944d5a67cc"
      },
      "execution_count": null,
      "outputs": [
        {
          "output_type": "stream",
          "name": "stdout",
          "text": [
            "Total GPU Memory: 14.75 GB\n",
            "Free GPU Memory: 14.65 GB\n"
          ]
        }
      ]
    },
    {
      "cell_type": "markdown",
      "source": [
        "# Matrix Multiplication"
      ],
      "metadata": {
        "id": "Gcm0e1A0w6By"
      }
    },
    {
      "cell_type": "markdown",
      "source": [
        "**Input:** $N \\in \\mathbb{Z}^+$  \n",
        "*Dimension of the matrices*\n",
        "\n",
        "- $A \\gets \\text{random matrix of size } N \\times N$\n",
        "- $B \\gets \\text{random matrix of size } N \\times N$\n",
        "- $T \\gets 0$  \n",
        "   *Initialize total time*\n",
        "\n",
        "**For** $i \\in \\{1, 2, \\dots, 10\\}$:\n",
        "   - $t_{\\text{start}} \\gets \\text{current time}$\n",
        "   - $C \\gets A \\times B$  \n",
        "      *Matrix multiplication*\n",
        "   - $t_{\\text{end}} \\gets \\text{current time}$\n",
        "   - $T \\gets T + (t_{\\text{end}} - t_{\\text{start}})$\n",
        "\n",
        "\n",
        "$\\text{average time} \\gets T / 10$\n"
      ],
      "metadata": {
        "id": "o5QFU3KSUs_w"
      }
    },
    {
      "cell_type": "code",
      "source": [
        "# Matrix size\n",
        "N = 2_000"
      ],
      "metadata": {
        "id": "lw4DnF1GRMKI"
      },
      "execution_count": null,
      "outputs": []
    },
    {
      "cell_type": "code",
      "source": [
        "# Create matrices using NumPy\n",
        "A_np = np.random.rand(N, N)\n",
        "B_np = np.random.rand(N, N)\n",
        "np.dot(A_np, B_np) # avoid initial overheads\n",
        "\n",
        "# Measure NumPy time for matrix multiplication\n",
        "start_time_np = time.time()\n",
        "for i in range(10):\n",
        "  C_np = np.dot(A_np, B_np)\n",
        "  print(\"Benchmark:\",i+1)\n",
        "numpy_time = (time.time() - start_time_np)/10\n",
        "\n",
        "print(f\"NumPy Time: {numpy_time:.6f} seconds\")"
      ],
      "metadata": {
        "colab": {
          "base_uri": "https://localhost:8080/"
        },
        "id": "FSLaF2rTP1le",
        "outputId": "8694921a-7a2e-43c9-d322-98c5b1355fcf"
      },
      "execution_count": null,
      "outputs": [
        {
          "output_type": "stream",
          "name": "stdout",
          "text": [
            "Benchmark: 1\n",
            "Benchmark: 2\n",
            "Benchmark: 3\n",
            "Benchmark: 4\n",
            "Benchmark: 5\n",
            "Benchmark: 6\n",
            "Benchmark: 7\n",
            "Benchmark: 8\n",
            "Benchmark: 9\n",
            "Benchmark: 10\n",
            "NumPy Time: 0.287114 seconds\n"
          ]
        }
      ]
    },
    {
      "cell_type": "code",
      "source": [
        "# Convert NumPy arrays to CuPy arrays\n",
        "A_cp = cp.asarray(A_np)\n",
        "B_cp = cp.asarray(B_np)\n",
        "cp.dot(A_cp, B_cp) # avoid initial overheads\n",
        "\n",
        "# Measure CuPy time for matrix multiplication\n",
        "start_time_cp = time.time()\n",
        "for i in range(10):\n",
        "  C_cp = cp.dot(A_cp, B_cp)\n",
        "  print(\"Benchmark:\",i+1)\n",
        "cupy_time = (time.time() - start_time_cp)/10\n",
        "\n",
        "print(f\"CuPy Time: {cupy_time:.6f} seconds\")"
      ],
      "metadata": {
        "colab": {
          "base_uri": "https://localhost:8080/"
        },
        "id": "MCL05aPvRRBS",
        "outputId": "a95fb4b6-8660-4c25-82e3-1d7b4c42a975"
      },
      "execution_count": null,
      "outputs": [
        {
          "output_type": "stream",
          "name": "stdout",
          "text": [
            "Benchmark: 1\n",
            "Benchmark: 2\n",
            "Benchmark: 3\n",
            "Benchmark: 4\n",
            "Benchmark: 5\n",
            "Benchmark: 6\n",
            "Benchmark: 7\n",
            "Benchmark: 8\n",
            "Benchmark: 9\n",
            "Benchmark: 10\n",
            "CuPy Time: 0.000837 seconds\n"
          ]
        }
      ]
    },
    {
      "cell_type": "code",
      "source": [
        "print(f\"NumPy/CuPy Time: {numpy_time/cupy_time:.6f}\")"
      ],
      "metadata": {
        "colab": {
          "base_uri": "https://localhost:8080/"
        },
        "id": "wWSaZDuUVSwC",
        "outputId": "acd09cc5-e308-4cbb-c09d-b9a28c4385f8"
      },
      "execution_count": null,
      "outputs": [
        {
          "output_type": "stream",
          "name": "stdout",
          "text": [
            "NumPy/CuPy Time: 342.845125\n"
          ]
        }
      ]
    },
    {
      "cell_type": "markdown",
      "source": [
        "...run this with $N=2,000$..."
      ],
      "metadata": {
        "id": "bX4mGRecRVrA"
      }
    },
    {
      "cell_type": "markdown",
      "source": [
        "- **Optimized Libraries**: CuPy utilizes CUDA and highly optimized GPU libraries (like cuBLAS) for mathematical operations, leading to more efficient execution compared to CPU-bound operations in NumPy.\n",
        "- **Multiple threads** simultaneously process different portions of data, performing partial reductions in parallel.\n",
        "- **Memory Bandwidth**: GPUs have higher memory bandwidth compared to CPUs, enabling faster data transfer rates and reducing the time spent on reading and writing large matrices."
      ],
      "metadata": {
        "id": "6zSZpsrCTaSm"
      }
    },
    {
      "cell_type": "markdown",
      "source": [
        "# Element-wise addition"
      ],
      "metadata": {
        "id": "qfN7kGOQw9LP"
      }
    },
    {
      "cell_type": "code",
      "source": [
        "# Size of the vectors\n",
        "N = 1_000"
      ],
      "metadata": {
        "id": "aPdSBf9sVugW"
      },
      "execution_count": null,
      "outputs": []
    },
    {
      "cell_type": "code",
      "source": [
        "# Number of iterations for averaging the results\n",
        "num_iterations = 10\n",
        "\n",
        "# Create arrays with NumPy and CuPy\n",
        "A_np = np.random.rand(N)\n",
        "B_np = np.random.rand(N)\n",
        "A_cp = cp.asarray(A_np)\n",
        "B_cp = cp.asarray(B_np)\n",
        "\n",
        "# Initialize timers\n",
        "numpy_total_time = 0\n",
        "cupy_total_time = 0\n",
        "\n",
        "# Warm up to ensure GPU is initialized\n",
        "# cp.add(cp.asarray(np.random.rand(N)), cp.asarray(np.random.rand(N)))\n",
        "\n",
        "for _ in range(num_iterations):\n",
        "    # Time NumPy operation\n",
        "    start_np = time.time()\n",
        "    C_np = A_np + B_np\n",
        "    numpy_time = time.time() - start_np\n",
        "    numpy_total_time += numpy_time\n",
        "\n",
        "    # Time CuPy operation\n",
        "    start_cp = time.time()\n",
        "    C_cp = A_cp + B_cp\n",
        "    cp.cuda.Device().synchronize()  # Ensure all operations are complete\n",
        "    cupy_time = time.time() - start_cp\n",
        "    cupy_total_time += cupy_time\n",
        "\n",
        "# Compute average times\n",
        "average_numpy_time = numpy_total_time / num_iterations\n",
        "average_cupy_time = cupy_total_time / num_iterations\n",
        "\n",
        "print(f\"Average NumPy Element-wise Addition Time: {average_numpy_time:.6f} seconds\")\n",
        "print(f\"Average CuPy Element-wise Addition Time: {average_cupy_time:.6f} seconds\")\n",
        "print(f\"NumPy/CuPy Time: {average_numpy_time/average_cupy_time:.6f}\")"
      ],
      "metadata": {
        "colab": {
          "base_uri": "https://localhost:8080/"
        },
        "id": "8p4zwUyfxEl5",
        "outputId": "d366b92b-3833-4259-9365-1d2b730a0a50"
      },
      "execution_count": null,
      "outputs": [
        {
          "output_type": "stream",
          "name": "stdout",
          "text": [
            "Average NumPy Element-wise Addition Time: 0.000009 seconds\n",
            "Average CuPy Element-wise Addition Time: 0.000189 seconds\n",
            "NumPy/CuPy Time: 0.046845\n"
          ]
        }
      ]
    },
    {
      "cell_type": "markdown",
      "source": [
        "...run again for $N=1000$..."
      ],
      "metadata": {
        "id": "2Q64jRVpbdZd"
      }
    },
    {
      "cell_type": "markdown",
      "source": [
        "### Why NumPy is Faster for Small $N$\n",
        "\n",
        "- **GPU Overhead:** Initializing and synchronizing the GPU incurs overhead that can outweigh the benefits of parallel processing for small data sizes.\n",
        "- **Memory Transfer:** Transferring data between CPU and GPU memory introduces latency that is significant when dealing with small arrays, making CPU operations faster.\n",
        "\n",
        "*To fully leverage GPU performance, send large batches of data to minimize overhead and maximize parallel processing efficiency.*"
      ],
      "metadata": {
        "id": "hiK2cHnNUR7G"
      }
    },
    {
      "cell_type": "code",
      "source": [
        "N=10\n",
        "A_np = np.random.rand(N)\n",
        "A_cp = cp.asarray(A_np)\n",
        "cp.asarray(A_cp)"
      ],
      "metadata": {
        "colab": {
          "base_uri": "https://localhost:8080/"
        },
        "id": "VltdtjHm8oN2",
        "outputId": "eba4b227-4437-49b2-e8c6-b22d5ef71942"
      },
      "execution_count": null,
      "outputs": [
        {
          "output_type": "execute_result",
          "data": {
            "text/plain": [
              "array([0.57825197, 0.03214955, 0.08726671, 0.3660074 , 0.14379972,\n",
              "       0.50778563, 0.61231925, 0.42992299, 0.02151465, 0.7966884 ])"
            ]
          },
          "metadata": {},
          "execution_count": 11
        }
      ]
    },
    {
      "cell_type": "markdown",
      "metadata": {
        "id": "k1IdYwKU_Yd2"
      },
      "source": [
        "# SolveBak"
      ]
    },
    {
      "cell_type": "markdown",
      "source": [
        "**The SolveBak Algorithm**\n",
        "\n",
        "**Input**: $\\mathbf{X}$, $\\mathbf{y}$\n",
        "\n",
        "**Output**: $\\mathbf{a}$\n",
        "\n",
        "1. Initialize $\\mathbf{a} = a_{j \\in \\{1,2,\\dots,n\\}} = \\mathbf{0}_n$ (initial guess)\n",
        "2. Compute $\\mathbf{e} = \\mathbf{y} - \\mathbf{X} \\times \\mathbf{a}$\n",
        "\n",
        "3. For $i \\in \\{1,2,\\dots,N\\}$:\n",
        "   1. For $j \\in \\{1,2,\\dots,n\\}$:\n",
        "      1. $da = \\frac{\\langle \\mathbf{X}_j, \\mathbf{e} \\rangle}{\\langle \\mathbf{X}_j, \\mathbf{X}_j \\rangle}$\n",
        "      2. Update $\\mathbf{e} \\leftarrow \\mathbf{e} - \\mathbf{X}_j \\times da$\n",
        "      3. Update $a_j \\leftarrow a_j + da$\n",
        "\n",
        "4. Return $\\mathbf{a}$ such that $\\mathbf{X} \\times \\mathbf{a} = \\mathbf{y}$\n"
      ],
      "metadata": {
        "id": "s3t5Y-iXRvuR"
      }
    },
    {
      "cell_type": "markdown",
      "source": [
        "view more on https://arxiv.org/pdf/2104.12570"
      ],
      "metadata": {
        "id": "1x_A4wPklo3u"
      }
    },
    {
      "cell_type": "markdown",
      "metadata": {
        "id": "rc7VHIWQXy83"
      },
      "source": [
        "---\n",
        "## Initialize variables\n",
        "---"
      ]
    },
    {
      "cell_type": "code",
      "source": [
        "obs=100_000\n",
        "vars=1_000\n",
        "ITERS = 10"
      ],
      "metadata": {
        "id": "p3sdD9MiiwQt"
      },
      "execution_count": null,
      "outputs": []
    },
    {
      "cell_type": "markdown",
      "metadata": {
        "id": "r7r4N5W-X2Dj"
      },
      "source": [
        "## SolveBak with *NumPy*"
      ]
    },
    {
      "cell_type": "code",
      "metadata": {
        "id": "5zyVF0nlXwxA",
        "colab": {
          "base_uri": "https://localhost:8080/"
        },
        "outputId": "5b425899-a189-4239-fa17-34a11c74c3b7"
      },
      "source": [
        "x=np.random.rand(obs,vars)-1/2\n",
        "a=np.random.rand(vars)-1/2\n",
        "y=np.dot(x,a)\n",
        "\n",
        "x_x=np.sum(x*x,axis=0)\n",
        "aa=np.zeros(vars)\n",
        "e=np.copy(y)\n",
        "t1=time.time()\n",
        "for i in range(ITERS):\n",
        "    for j in range(vars):\n",
        "        da=np.dot(x[:,j],e)/x_x[j]\n",
        "        e-=da*x[:,j]\n",
        "        aa[j]+=da\n",
        "t2=time.time()\n",
        "\n",
        "numpy_time = t2-t1\n",
        "print(f\"NumPy time: {numpy_time:.6f}- Error: {np.mean(np.abs(a-aa)):.3E}\")"
      ],
      "execution_count": null,
      "outputs": [
        {
          "output_type": "stream",
          "name": "stdout",
          "text": [
            "NumPy time: 13.085524- Error: 2.592E-14\n"
          ]
        }
      ]
    },
    {
      "cell_type": "markdown",
      "source": [
        "## SolveBak with *CuPy*"
      ],
      "metadata": {
        "id": "V5eMND7rjAU6"
      }
    },
    {
      "cell_type": "code",
      "source": [
        "x=cp.random.rand(obs,vars)-1/2\n",
        "a=cp.random.rand(vars)-1/2\n",
        "y=cp.dot(x,a)\n",
        "\n",
        "aa = cp.zeros(vars)\n",
        "x_x=cp.sum(x*x,axis=0)\n",
        "e = cp.copy(y)\n",
        "t1 = time.time()\n",
        "for i in range(ITERS):\n",
        "    for j in range(vars):\n",
        "        da = cp.dot(x[:, j], e) / x_x[j]\n",
        "        e -= da * x[:, j]\n",
        "        aa[j] += da\n",
        "t2 = time.time()\n",
        "\n",
        "cupy_time = t2-t1\n",
        "print(f\"CuPy time: {cupy_time:.6f} - Error: {cp.mean(cp.abs(cp.asarray(a)-aa)):.3E}\")"
      ],
      "metadata": {
        "colab": {
          "base_uri": "https://localhost:8080/"
        },
        "id": "M_oSmbrnjCfF",
        "outputId": "7cf8b311-2989-4e5b-ae36-aad6ae9fc2ae"
      },
      "execution_count": null,
      "outputs": [
        {
          "output_type": "stream",
          "name": "stdout",
          "text": [
            "CuPy time: 2.783537 - Error: 2.990E-14\n"
          ]
        }
      ]
    },
    {
      "cell_type": "code",
      "source": [
        "print(f\"NumPy/CuPy Time: {numpy_time/cupy_time:.6f}\")"
      ],
      "metadata": {
        "colab": {
          "base_uri": "https://localhost:8080/"
        },
        "id": "5L1PvKxfgPW4",
        "outputId": "c804268c-e6c8-4a43-b24e-f6434de03e1c"
      },
      "execution_count": null,
      "outputs": [
        {
          "output_type": "stream",
          "name": "stdout",
          "text": [
            "NumPy/CuPy Time: 4.701041\n"
          ]
        }
      ]
    },
    {
      "cell_type": "markdown",
      "metadata": {
        "id": "G2oEtadVcfUl"
      },
      "source": [
        "# SolveBak with batches"
      ]
    },
    {
      "cell_type": "markdown",
      "source": [
        "**The Parallel HPSCDP Solver**\n",
        "\n",
        "**Input**: $\\mathbf{X}$, $\\mathbf{y}$\n",
        "\n",
        "**Output**: $\\mathbf{a}$\n",
        "\n",
        "1. Initialize $\\mathbf{a} = \\mathbf{0}_n$ (or an initial guess).\n",
        "2. Compute $\\mathbf{e} = \\mathbf{y} - \\mathbf{X} \\times \\mathbf{a}$.\n",
        "\n",
        "3. For $i \\in \\{1,2,\\dots,N\\}$:\n",
        "   1. Set $\\mathbf{a_{\\text{prev}}} \\leftarrow \\mathbf{a}$.\n",
        "   2. For $j \\in \\{1, \\text{thr}+1, 2\\text{thr}+1, \\dots, n-\\text{thr}+1\\}$:\n",
        "      1. For $k \\in \\{j, j+1, \\dots, j+\\text{thr}-1\\}$ do in parallel:\n",
        "         1. Update $a_k \\leftarrow a_k + \\frac{\\langle \\mathbf{X}_k, \\mathbf{e} \\rangle}{\\langle \\mathbf{X}_k, \\mathbf{X}_k \\rangle}$.\n",
        "      2. Update $\\mathbf{e} \\leftarrow \\mathbf{e} - \\mathbf{X}_{jj} \\times de$,\n",
        "      .\n",
        "\n",
        "4. Return $\\mathbf{a}$ such that $\\mathbf{X} \\times \\mathbf{a} = \\mathbf{y}$."
      ],
      "metadata": {
        "id": "zSO6KlFajddc"
      }
    },
    {
      "cell_type": "markdown",
      "metadata": {
        "id": "m8gcqwUPcMn2"
      },
      "source": [
        "---\n",
        "## Initialize variables\n",
        "---"
      ]
    },
    {
      "cell_type": "code",
      "source": [
        "obs=100_000\n",
        "vars=1_000\n",
        "ITERS = 10\n",
        "BATCH = 100"
      ],
      "metadata": {
        "id": "XdToWDQRcG7W"
      },
      "execution_count": null,
      "outputs": []
    },
    {
      "cell_type": "markdown",
      "source": [
        "## SolveBak with *NumPy* in BATCHES"
      ],
      "metadata": {
        "id": "OzuYaN_9tydR"
      }
    },
    {
      "cell_type": "code",
      "source": [
        "x=np.random.rand(obs,vars)-1/2\n",
        "a=np.random.rand(vars)-1/2\n",
        "y=np.dot(x,a)\n",
        "\n",
        "x_x=np.sum(x*x,axis=0)\n",
        "aa=np.zeros(vars)\n",
        "e=np.copy(y)\n",
        "t1=time.time()\n",
        "for i in range(ITERS):\n",
        "    for j in range(0,vars,BATCH):\n",
        "        # here we apply dot product for matrices instead of vectors\n",
        "        da = np.dot(x[:, j:j+BATCH].T, e) / x_x[j:j+BATCH]\n",
        "        e -= np.sum(da * x[:, j:j+BATCH], axis=1)\n",
        "        aa[j:j+BATCH] += da\n",
        "\n",
        "t2=time.time()\n",
        "numpy_time = t2-t1\n",
        "print(f\"NumPy time: {numpy_time:.6f}- Error: {np.mean(np.abs(a-aa)):.3E}\")"
      ],
      "metadata": {
        "colab": {
          "base_uri": "https://localhost:8080/"
        },
        "id": "30Zqm2WDtU1X",
        "outputId": "66e38e47-90cf-4cad-889d-d057f724dd6c"
      },
      "execution_count": null,
      "outputs": [
        {
          "output_type": "stream",
          "name": "stdout",
          "text": [
            "NumPy time: 0.005257- Error: 9.576E-04\n"
          ]
        }
      ]
    },
    {
      "cell_type": "markdown",
      "source": [
        "## SolveBak with *CuPy* in BATCHES"
      ],
      "metadata": {
        "id": "HLGlMOIrt6Of"
      }
    },
    {
      "cell_type": "code",
      "source": [
        "x=cp.random.rand(obs,vars)-1/2\n",
        "a=cp.random.rand(vars)-1/2\n",
        "y=cp.dot(x,a)\n",
        "\n",
        "aa = cp.zeros(vars)\n",
        "x_x=cp.sum(x*x,axis=0)\n",
        "e = cp.copy(y)\n",
        "t1 = time.time()\n",
        "for i in range(ITERS):\n",
        "    for j in range(0,vars,BATCH):\n",
        "        da = cp.dot(x[:, j:j+BATCH].T, e) / x_x[j:j+BATCH]\n",
        "        e -= cp.sum(da * x[:, j:j+BATCH], axis=1)\n",
        "        aa[j:j+BATCH] += da\n",
        "t2=time.time()\n",
        "\n",
        "cupy_time = t2-t1\n",
        "print(f\"CuPy time: {cupy_time:.6f} - Error: {cp.mean(cp.abs(cp.asarray(a)-aa)):.3E}\")"
      ],
      "metadata": {
        "colab": {
          "base_uri": "https://localhost:8080/"
        },
        "id": "ji2Kb__-pk8s",
        "outputId": "0b32b19b-0b14-4361-b0b7-53c6d5260a14"
      },
      "execution_count": null,
      "outputs": [
        {
          "output_type": "stream",
          "name": "stdout",
          "text": [
            "CuPy time: 0.179903 - Error: 8.580E-04\n"
          ]
        }
      ]
    },
    {
      "cell_type": "code",
      "source": [
        "print(f\"NumPy/CuPy Time: {numpy_time/cupy_time:.6f}\")"
      ],
      "metadata": {
        "id": "-j77w1GOvruT",
        "colab": {
          "base_uri": "https://localhost:8080/"
        },
        "outputId": "e83c22de-6d89-4257-f168-c5aafbb81394"
      },
      "execution_count": null,
      "outputs": [
        {
          "output_type": "stream",
          "name": "stdout",
          "text": [
            "NumPy/CuPy Time: 0.029219\n"
          ]
        }
      ]
    },
    {
      "cell_type": "markdown",
      "source": [
        "...run again with small obs..."
      ],
      "metadata": {
        "id": "1dAQBEOZgWLD"
      }
    },
    {
      "cell_type": "markdown",
      "source": [
        "CuPy is faster than NumPy when using the second algorithm with batches:\n",
        "\n",
        "1. **Parallel Batch Processing:** CuPy leverages the GPU's parallel processing capabilities, allowing multiple batches to be processed concurrently. This significantly speeds up the reduction operations within each batch, compared to the sequential processing on a CPU.\n",
        "\n",
        "2. **Optimized Memory Usage:** GPUs have higher memory bandwidth and can handle large data transfers more efficiently.\n",
        "\n",
        "3. **Batch Size Optimization**: Larger batch sizes can be handled more efficiently on GPUs, fully utilizing their massive parallel architecture and reducing overhead.\n",
        "\n",
        "*Batch size should be less than the available GPU RAM to avoid memory overflow; use MPI for larger data sizes to distribute computation across multiple GPUs or nodes.*"
      ],
      "metadata": {
        "id": "BaManx4VYb0T"
      }
    },
    {
      "cell_type": "markdown",
      "source": [
        "# Artificial Neural Networks"
      ],
      "metadata": {
        "id": "cSfzuCrQi4_X"
      }
    },
    {
      "cell_type": "markdown",
      "source": [
        "$$y_i \\cong \\sum\\limits_{k=1}^{N}{{{v}_{k}}}\\sigma \\left( \\sum\\limits_{j=1}^{n}{{{w}_{jk}}{{x}_{ij}}}+{{b}_{k}} \\right)+{{b}_{0}}$$"
      ],
      "metadata": {
        "id": "5KJNHqrQnQZM"
      }
    },
    {
      "cell_type": "markdown",
      "source": [
        "https://link.springer.com/content/pdf/10.1007/s00477-023-02407-2.pdf"
      ],
      "metadata": {
        "id": "3UJO9Wlcn2jP"
      }
    },
    {
      "cell_type": "code",
      "source": [
        "import datetime\n",
        "import numpy as np\n",
        "import time\n",
        "import matplotlib.pyplot as plt"
      ],
      "metadata": {
        "id": "NpviCS3vW-wH"
      },
      "execution_count": null,
      "outputs": []
    },
    {
      "cell_type": "markdown",
      "source": [
        "## With NumPy"
      ],
      "metadata": {
        "id": "4hTGxGJTo_cK"
      }
    },
    {
      "cell_type": "code",
      "source": [
        "obs = 100_000\n",
        "vars = 10"
      ],
      "metadata": {
        "id": "BB9nrKNpaHOr"
      },
      "execution_count": null,
      "outputs": []
    },
    {
      "cell_type": "markdown",
      "source": [
        "### Prepare the training and testing sets"
      ],
      "metadata": {
        "id": "lGmbtv7Ran7_"
      }
    },
    {
      "cell_type": "code",
      "source": [
        "x=np.random.rand(obs,vars)-1/2\n",
        "y = np.sin(np.sum(x,axis=1))/2\n",
        "\n",
        "xt=np.random.rand(obs,vars)-1/2\n",
        "yt = np.sin(np.sum(xt,axis=1))/2"
      ],
      "metadata": {
        "id": "Q3ceyE_IXEL4"
      },
      "execution_count": null,
      "outputs": []
    },
    {
      "cell_type": "markdown",
      "source": [
        "### Define the number of neurons"
      ],
      "metadata": {
        "id": "0kzhC47HawZq"
      }
    },
    {
      "cell_type": "code",
      "source": [
        "neurons = 1_000"
      ],
      "metadata": {
        "id": "SynrO-dXW1Bs"
      },
      "execution_count": null,
      "outputs": []
    },
    {
      "cell_type": "code",
      "source": [
        "i_train = x.shape[0]\n",
        "layer1 = np.zeros((i_train, neurons))\n",
        "w_all = []\n",
        "i_err = []"
      ],
      "metadata": {
        "id": "5f3xs9n9ZLtk"
      },
      "execution_count": null,
      "outputs": []
    },
    {
      "cell_type": "markdown",
      "source": [
        "### Size of internal neurons' batch"
      ],
      "metadata": {
        "id": "L6fLWeOaa7cq"
      }
    },
    {
      "cell_type": "code",
      "source": [
        "n_train_internal = x.shape[0]//neurons\n",
        "n_train_internal"
      ],
      "metadata": {
        "colab": {
          "base_uri": "https://localhost:8080/"
        },
        "id": "9UolD23Qn8PD",
        "outputId": "75295672-0645-475c-f564-8591f4af090c"
      },
      "execution_count": null,
      "outputs": [
        {
          "output_type": "execute_result",
          "data": {
            "text/plain": [
              "100"
            ]
          },
          "metadata": {},
          "execution_count": 51
        }
      ]
    },
    {
      "cell_type": "markdown",
      "source": [
        "$$\\mathbf{X}_k := (x_{ijk})_{i \\in [m_k], j \\in [n]}$$\n",
        "\n",
        "$$\\sigma \\odot \\Big(\\big(\\mathbf{X}_k \\Big|\\mathbf{1}\\big) \\times \\mathbf{w}_k\\Big) = \\mathbf{y}_k$$\n",
        "\n",
        "$$\\big(\\mathbf{X}_k \\Big| \\mathbf{1}\\big) \\times \\mathbf{w}_k = \\sigma^{-1} \\odot (\\mathbf{y}_k )$$"
      ],
      "metadata": {
        "id": "Zeo4z1AQnh25"
      }
    },
    {
      "cell_type": "code",
      "source": [
        "yy = np.arctanh(y)"
      ],
      "metadata": {
        "id": "EBpLJll9quN_"
      },
      "execution_count": null,
      "outputs": []
    },
    {
      "cell_type": "markdown",
      "source": [
        "### Compute internal neurons weights"
      ],
      "metadata": {
        "id": "Ho-TLiTsbMIy"
      }
    },
    {
      "cell_type": "code",
      "source": [
        "print(\"Computing internal neurons' weights...\")\n",
        "t1=time.time()\n",
        "for i in range(neurons):\n",
        "    ii = np.random.permutation(x.shape[0])[:n_train_internal]\n",
        "    try:\n",
        "        aa = np.linalg.lstsq(x[ii],yy[ii], rcond=None)[0]\n",
        "        w_all.append(aa)\n",
        "        if i in range(0,neurons,neurons//10):\n",
        "            sdt = datetime.datetime.now().strftime('%H:%M:%S.%f')[:-3]\n",
        "            print(sdt,\"Computing weights for neuron\",i,\"of\",neurons)\n",
        "    except Exception as ex:\n",
        "        i_err.append(i)\n",
        "        print(\"Error in neuron \", i, \":\", ex)\n",
        "\n",
        "t2=time.time()\n",
        "numpy_time_inner = t2-t1\n",
        "print(f\"NumPy time: {numpy_time_inner:.6f}\")"
      ],
      "metadata": {
        "colab": {
          "base_uri": "https://localhost:8080/"
        },
        "id": "vq-ZnQz7WQSA",
        "outputId": "fbc2d19e-cf8a-41cd-f13a-149941dfac84"
      },
      "execution_count": null,
      "outputs": [
        {
          "output_type": "stream",
          "name": "stdout",
          "text": [
            "Computing internal neurons' weights...\n",
            "11:09:03.365 Computing weights for neuron 0 of 1000\n",
            "11:09:03.538 Computing weights for neuron 100 of 1000\n",
            "11:09:03.719 Computing weights for neuron 200 of 1000\n",
            "11:09:03.899 Computing weights for neuron 300 of 1000\n",
            "11:09:04.085 Computing weights for neuron 400 of 1000\n",
            "11:09:04.277 Computing weights for neuron 500 of 1000\n",
            "11:09:04.460 Computing weights for neuron 600 of 1000\n",
            "11:09:04.642 Computing weights for neuron 700 of 1000\n",
            "11:09:04.820 Computing weights for neuron 800 of 1000\n",
            "11:09:05.001 Computing weights for neuron 900 of 1000\n",
            "NumPy time: 1.827874\n"
          ]
        }
      ]
    },
    {
      "cell_type": "markdown",
      "source": [
        "### Formulate outer layer"
      ],
      "metadata": {
        "id": "_VbtbKsQbQzb"
      }
    },
    {
      "cell_type": "code",
      "source": [
        "w_all = np.array(w_all)\n",
        "w_all.shape\n",
        "sdt = datetime.datetime.now().strftime('%H:%M:%S.%f')[:-3]\n",
        "print(sdt,\"Formulating Layers\")\n",
        "layer1 = np.tanh(np.dot(x, w_all.T))"
      ],
      "metadata": {
        "colab": {
          "base_uri": "https://localhost:8080/"
        },
        "id": "uqKf2cIqWufW",
        "outputId": "66a3255e-9994-4151-a54d-ac019d451bc6"
      },
      "execution_count": null,
      "outputs": [
        {
          "output_type": "stream",
          "name": "stdout",
          "text": [
            "11:09:07.586 Formulating Layers\n"
          ]
        }
      ]
    },
    {
      "cell_type": "markdown",
      "source": [
        "$$\\mathbf{\\hat{X}} := \\bigg[ \\sigma \\odot \\Big(\\big(\\mathbf{X} \\Big| \\mathbf{1}\\big)\\times \\mathbf{w} \\Big) \\bigg| \\mathbf{1}\\bigg]$$\n",
        "\n",
        "$$ \\mathbf{\\hat{X}} \\times \\mathbf{v} = \\mathbf{y}$$"
      ],
      "metadata": {
        "id": "9xRcOxaVoRTU"
      }
    },
    {
      "cell_type": "markdown",
      "source": [
        "### Solve for outter layer's weights"
      ],
      "metadata": {
        "id": "RuJhqFWpbWCA"
      }
    },
    {
      "cell_type": "code",
      "source": [
        "t1=time.time()\n",
        "# V = np.linalg.lstsq(layer1,y,rcond=-1)[0]\n",
        "V = np.linalg.solve(layer1.T@layer1,layer1.T@y)\n",
        "t2=time.time()\n",
        "numpy_time_outer = t2-t1\n",
        "print(f\"NumPy time: {numpy_time_outer:.6f}\")"
      ],
      "metadata": {
        "colab": {
          "base_uri": "https://localhost:8080/"
        },
        "id": "S3LWIx4jXT1f",
        "outputId": "9c83afb9-c832-46bf-9ba5-96beb1069f4f"
      },
      "execution_count": null,
      "outputs": [
        {
          "output_type": "stream",
          "name": "stdout",
          "text": [
            "NumPy time: 3.085749\n"
          ]
        }
      ]
    },
    {
      "cell_type": "markdown",
      "source": [
        "### Check accuracy"
      ],
      "metadata": {
        "id": "UHU0X1aLbcv0"
      }
    },
    {
      "cell_type": "code",
      "source": [
        "pred = np.dot(layer1,V)\n",
        "np.corrcoef(pred,y)[0,1]"
      ],
      "metadata": {
        "colab": {
          "base_uri": "https://localhost:8080/"
        },
        "id": "H5y4SRe5Xej2",
        "outputId": "78a9b134-9563-458c-de68-d5ea5945e8c0"
      },
      "execution_count": null,
      "outputs": [
        {
          "output_type": "execute_result",
          "data": {
            "text/plain": [
              "0.9999978851393453"
            ]
          },
          "metadata": {},
          "execution_count": 56
        }
      ]
    },
    {
      "cell_type": "code",
      "source": [
        "layer1t = np.tanh(np.dot(xt, w_all.T))\n",
        "predt = np.dot(layer1t,V)\n",
        "np.corrcoef(predt,yt)[0,1]"
      ],
      "metadata": {
        "colab": {
          "base_uri": "https://localhost:8080/"
        },
        "id": "sWebHoLdlxeu",
        "outputId": "7fea6da3-4399-44e7-c6b9-bce38eabebcd"
      },
      "execution_count": null,
      "outputs": [
        {
          "output_type": "execute_result",
          "data": {
            "text/plain": [
              "0.9999978173657291"
            ]
          },
          "metadata": {},
          "execution_count": 57
        }
      ]
    },
    {
      "cell_type": "code",
      "source": [
        "plt.scatter(predt,yt)"
      ],
      "metadata": {
        "colab": {
          "base_uri": "https://localhost:8080/",
          "height": 448
        },
        "collapsed": true,
        "id": "4AZxYryMdx8b",
        "outputId": "c0c446cb-7be7-4b75-e73b-2dfd5956a339"
      },
      "execution_count": null,
      "outputs": [
        {
          "output_type": "execute_result",
          "data": {
            "text/plain": [
              "<matplotlib.collections.PathCollection at 0x7bacbf906c50>"
            ]
          },
          "metadata": {},
          "execution_count": 58
        },
        {
          "output_type": "display_data",
          "data": {
            "text/plain": [
              "<Figure size 640x480 with 1 Axes>"
            ],
            "image/png": "[encoded data removed]"
          },
          "metadata": {}
        }
      ]
    },
    {
      "cell_type": "markdown",
      "source": [
        "## With CuPy"
      ],
      "metadata": {
        "id": "2JIXBV_WXvcS"
      }
    },
    {
      "cell_type": "code",
      "source": [
        "import cupy as cp"
      ],
      "metadata": {
        "id": "zJZ-PJwcmFbn"
      },
      "execution_count": null,
      "outputs": []
    },
    {
      "cell_type": "markdown",
      "source": [
        "### Transfer data to GPU"
      ],
      "metadata": {
        "id": "qnRh8flRboBx"
      }
    },
    {
      "cell_type": "code",
      "source": [
        "x = cp.array(x)\n",
        "y = cp.array(y)\n",
        "xt = cp.array(xt)\n",
        "yt = cp.array(yt)"
      ],
      "metadata": {
        "id": "ppRT3dkrXxDN"
      },
      "execution_count": null,
      "outputs": []
    },
    {
      "cell_type": "markdown",
      "source": [
        "### Initialize variables"
      ],
      "metadata": {
        "id": "K51XrYuRbsw1"
      }
    },
    {
      "cell_type": "code",
      "source": [
        "layer1 = cp.zeros((i_train, neurons))\n",
        "w_all = []\n",
        "i_err = []\n",
        "ii_all = []"
      ],
      "metadata": {
        "id": "U7SUMCwqZEVm"
      },
      "execution_count": null,
      "outputs": []
    },
    {
      "cell_type": "code",
      "source": [
        "yy = cp.arctanh(y)"
      ],
      "metadata": {
        "id": "UA6ZnmqUq2Jq"
      },
      "execution_count": null,
      "outputs": []
    },
    {
      "cell_type": "markdown",
      "source": [
        "### Compute internal neurons' weights"
      ],
      "metadata": {
        "id": "-93VioR7bxVK"
      }
    },
    {
      "cell_type": "code",
      "source": [
        "t1=time.time()\n",
        "for i in range(neurons):\n",
        "    ii = np.random.permutation(x.shape[0])[:n_train_internal]\n",
        "    ii_all.append(ii)\n",
        "    try:\n",
        "        aa = cp.linalg.lstsq(x[ii],yy[ii], rcond=None)[0]\n",
        "        w_all.append(aa)\n",
        "        if i in range(0,neurons,neurons//10):\n",
        "            sdt = datetime.datetime.now().strftime('%H:%M:%S.%f')[:-3]\n",
        "            print(sdt,\"Computing weights for neuron\",i,\"of\",neurons)\n",
        "    except Exception as ex:\n",
        "        i_err.append(i)\n",
        "        print(\"Error in neuron \", i, \":\", ex)\n",
        "\n",
        "t2=time.time()\n",
        "cupy_time_inner = t2-t1\n",
        "print(f\"CuPy time: {cupy_time_inner:.6f}\")"
      ],
      "metadata": {
        "colab": {
          "base_uri": "https://localhost:8080/"
        },
        "id": "FLC19MK4ZG2e",
        "outputId": "fbb739e8-0095-4142-b81b-5bb409deb6fc"
      },
      "execution_count": null,
      "outputs": [
        {
          "output_type": "stream",
          "name": "stdout",
          "text": [
            "11:09:59.873 Computing weights for neuron 0 of 1000\n",
            "11:10:00.502 Computing weights for neuron 100 of 1000\n",
            "11:10:01.118 Computing weights for neuron 200 of 1000\n",
            "11:10:01.734 Computing weights for neuron 300 of 1000\n",
            "11:10:02.708 Computing weights for neuron 400 of 1000\n",
            "11:10:03.720 Computing weights for neuron 500 of 1000\n",
            "11:10:04.306 Computing weights for neuron 600 of 1000\n",
            "11:10:04.778 Computing weights for neuron 700 of 1000\n",
            "11:10:05.249 Computing weights for neuron 800 of 1000\n",
            "11:10:05.739 Computing weights for neuron 900 of 1000\n",
            "CuPy time: 17.150124\n"
          ]
        }
      ]
    },
    {
      "cell_type": "code",
      "source": [
        "w_all = cp.array(w_all)\n",
        "w_all.shape\n",
        "sdt = datetime.datetime.now().strftime('%H:%M:%S.%f')[:-3]\n",
        "print(sdt,\"Formulating Layers\")\n",
        "layer1 = cp.tanh(cp.dot(x, w_all.T))"
      ],
      "metadata": {
        "colab": {
          "base_uri": "https://localhost:8080/"
        },
        "id": "bkrLRPmzZdUl",
        "outputId": "bbd85f44-8efe-4589-f82f-7de2ad581747"
      },
      "execution_count": null,
      "outputs": [
        {
          "output_type": "stream",
          "name": "stdout",
          "text": [
            "11:10:13.617 Formulating Layers\n"
          ]
        }
      ]
    },
    {
      "cell_type": "markdown",
      "source": [
        "### Solve for outter layer's weights"
      ],
      "metadata": {
        "id": "mj-gq13HcRCh"
      }
    },
    {
      "cell_type": "code",
      "source": [
        "t1=time.time()\n",
        "# V = cp.linalg.lstsq(layer1,y,rcond=-1)[0]\n",
        "V = cp.linalg.solve(layer1.T@layer1,layer1.T@y)\n",
        "t2=time.time()\n",
        "cupy_time_outer = t2-t1\n",
        "print(f\"CuPy time: {cupy_time_outer:.6f}\")"
      ],
      "metadata": {
        "colab": {
          "base_uri": "https://localhost:8080/"
        },
        "id": "EyIU4e7iZob8",
        "outputId": "2015c791-6841-41d6-f7c4-bd12de854ca2"
      },
      "execution_count": null,
      "outputs": [
        {
          "output_type": "stream",
          "name": "stdout",
          "text": [
            "CuPy time: 1.269419\n"
          ]
        }
      ]
    },
    {
      "cell_type": "markdown",
      "source": [
        "### Check the accuracy"
      ],
      "metadata": {
        "id": "dMdVfMTlcUS7"
      }
    },
    {
      "cell_type": "code",
      "source": [
        "pred = cp.dot(layer1,V)\n",
        "cp.corrcoef(pred,y)[0,1]"
      ],
      "metadata": {
        "colab": {
          "base_uri": "https://localhost:8080/"
        },
        "id": "vMmnujxLZp4L",
        "outputId": "7c50024c-bdf4-4f09-91f7-c6981e764c1d"
      },
      "execution_count": null,
      "outputs": [
        {
          "output_type": "execute_result",
          "data": {
            "text/plain": [
              "array(0.9999495)"
            ]
          },
          "metadata": {},
          "execution_count": 66
        }
      ]
    },
    {
      "cell_type": "code",
      "source": [
        "layer1t = cp.tanh(cp.dot(xt, w_all.T))\n",
        "predt = cp.dot(layer1t,V)\n",
        "cp.corrcoef(predt,yt)[0,1]"
      ],
      "metadata": {
        "colab": {
          "base_uri": "https://localhost:8080/"
        },
        "id": "WdMi6tKWZxDO",
        "outputId": "628d4da9-f059-4bc3-d8f3-9818e04ad02d"
      },
      "execution_count": null,
      "outputs": [
        {
          "output_type": "execute_result",
          "data": {
            "text/plain": [
              "array(0.99994792)"
            ]
          },
          "metadata": {},
          "execution_count": 67
        }
      ]
    },
    {
      "cell_type": "markdown",
      "source": [
        "## Comparison"
      ],
      "metadata": {
        "id": "jS-_e1vnqDTm"
      }
    },
    {
      "cell_type": "code",
      "source": [
        "print(f\"NumPy/CuPy Time - Inner Layer: {numpy_time_inner/cupy_time_inner:.6f}\")"
      ],
      "metadata": {
        "id": "Pko2WF88met6",
        "colab": {
          "base_uri": "https://localhost:8080/"
        },
        "outputId": "38f3373e-3295-4b62-f6ae-7915dcdedcb8"
      },
      "execution_count": null,
      "outputs": [
        {
          "output_type": "stream",
          "name": "stdout",
          "text": [
            "NumPy/CuPy Time - Inner Layer: 0.106581\n"
          ]
        }
      ]
    },
    {
      "cell_type": "code",
      "source": [
        "print(f\"NumPy/CuPy Time - Output Layer: {numpy_time_outer/cupy_time_outer:.6f}\")"
      ],
      "metadata": {
        "colab": {
          "base_uri": "https://localhost:8080/"
        },
        "id": "a55clruhqMpu",
        "outputId": "2a1e658b-fa04-42c0-af68-51c880e0c01f"
      },
      "execution_count": null,
      "outputs": [
        {
          "output_type": "stream",
          "name": "stdout",
          "text": [
            "NumPy/CuPy Time - Output Layer: 2.430836\n"
          ]
        }
      ]
    },
    {
      "cell_type": "markdown",
      "source": [
        "### Conclusions\n",
        "\n",
        "- **Matrix Multiplication Performance:** CuPy significantly outperforms NumPy in matrix multiplication, leveraging GPU parallelism for faster computations.\n",
        "- **Element-wise Operations:** For large arrays, CuPy is much faster than NumPy due to efficient parallel processing and higher memory bandwidth of GPUs.\n",
        "- **Batch Processing Efficiency:** CuPy handles large batches more effectively, fully utilizing GPU capabilities and reducing overhead, but batch sizes must be within available GPU RAM to avoid memory overflow.\n",
        "- **Optimization Strategy:** For handling larger data sizes exceeding GPU memory, use MPI to distribute computations across multiple GPUs or nodes for better performance and efficiency."
      ],
      "metadata": {
        "id": "bjoaYPMBcsef"
      }
    }
  ]
}